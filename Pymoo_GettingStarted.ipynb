{
 "cells": [
  {
   "cell_type": "markdown",
   "source": [
    "\n",
    "# Getting started with pymoo library for multiobjective optimization\n",
    "---\n",
    "Based on https://pymoo.org/getting_started/index.html\n"
   ],
   "metadata": {
    "collapsed": false
   }
  },
  {
   "cell_type": "markdown",
   "source": [
    "### Definition\n",
    "Optimization problem is defined by:\n",
    " min $f_m(x)$ for $m = 1,..., M$  &emsp;&emsp;  $\\rightarrow$ **$M$ - objective functions to be minimized**\n",
    " so that:\n",
    " $g_j(x) \\leq 0$ for $j = 1,..., K_1$  &emsp;&emsp;&emsp;  $\\rightarrow$ **$K_1$ inequality constraints**\n",
    " $h_k(x) = 0$ for $k = 1,..., K_2$     &emsp;&emsp;&emsp;  $\\rightarrow$ **$K_2$ equality constraints**\n",
    " $x_i^L \\leq x_i \\leq x_i^U$ for $i = 1,..., N$  &emsp;&emsp;  $\\rightarrow$ **Lower and Upper bounds**\n",
    " and $x \\in \\Omega$ &emsp;&emsp;&emsp;&emsp;&emsp;&emsp;&emsp;&emsp;&emsp;&emsp;&emsp;  $\\rightarrow$   **$x$, decision vector from decision space $\\Omega$**\n",
    "\n"
   ],
   "metadata": {
    "collapsed": false
   }
  },
  {
   "cell_type": "code",
   "execution_count": null,
   "outputs": [],
   "source": [],
   "metadata": {
    "collapsed": false
   }
  }
 ],
 "metadata": {
  "kernelspec": {
   "display_name": "Python 3",
   "language": "python",
   "name": "python3"
  },
  "language_info": {
   "codemirror_mode": {
    "name": "ipython",
    "version": 2
   },
   "file_extension": ".py",
   "mimetype": "text/x-python",
   "name": "python",
   "nbconvert_exporter": "python",
   "pygments_lexer": "ipython2",
   "version": "2.7.6"
  }
 },
 "nbformat": 4,
 "nbformat_minor": 0
}
