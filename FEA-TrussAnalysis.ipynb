{
 "cells": [
  {
   "cell_type": "code",
   "execution_count": 117,
   "metadata": {
    "collapsed": true
   },
   "outputs": [],
   "source": [
    "# in the previous code the elements were rectangles/quadrilaterals\n",
    "# -> in this code they are BARS (LINES) = simpler!\n",
    "# useful reference by Mert Solen (https://youtu.be/tv1TlAebvm0)\n",
    "\n",
    "import numpy as np\n",
    "from matplotlib import pyplot as plt\n",
    "from matplotlib.colors import Normalize\n",
    "from matplotlib.cm import ScalarMappable\n",
    "\n",
    "# auxiliary ftions: extended_nodes updates\n",
    "# returns local DOF matrix, global DOF matrix, tot num of DOC, tot num of DOF\n",
    "def get_DOF(nodes, BC):\n",
    "    num_nodes, PD = len(nodes), len(nodes[0])\n",
    "\n",
    "    DOF = 0  # degrees of freedom\n",
    "    DOC = 0  # degrees of constraint\n",
    "\n",
    "    local_DOF = np.zeros((num_nodes, PD))\n",
    "    global_DOF = np.zeros((num_nodes, PD))\n",
    "\n",
    "    for i in range(num_nodes):\n",
    "        for j in range(PD):\n",
    "            if BC[i, j] == -1:\n",
    "                DOC -= 1\n",
    "                local_DOF[i, j] = DOC\n",
    "            else:\n",
    "                DOF += 1\n",
    "                local_DOF[i, j] = DOF\n",
    "\n",
    "    for i in range(num_nodes):\n",
    "        for j in range(PD):\n",
    "            if local_DOF[i, j] < 0:\n",
    "                global_DOF[i, j] = abs(local_DOF[i, j]) + DOF\n",
    "            else:\n",
    "                global_DOF[i, j] = abs(local_DOF[i, j])\n",
    "\n",
    "    return (local_DOF, global_DOF, abs(DOC), abs(DOF))\n",
    "\n",
    "# obtain the element stiffness matrix based on the list of nodes in an element (el_list)\n",
    "def get_element_stiffness(el_list, ext_nodes, E, A):\n",
    "    X1 = ext_nodes[el_list[0], 0]\n",
    "    Y1 = ext_nodes[el_list[0], 1]\n",
    "    X2 = ext_nodes[el_list[1], 0]\n",
    "    Y2 = ext_nodes[el_list[1], 1]\n",
    "\n",
    "    L = np.sqrt((X1 - X2)**2 + (Y1 - Y2)**2)\n",
    "    c = (X2 - X1) / L\n",
    "    s = (Y2 - Y1) / L\n",
    "    KE = E*A/L * np.array([[c**2, c * s, -c**2, -c * s],\n",
    "                           [c * s, s**2, - c * s, -s**2],\n",
    "                           [-c**2, -c * s, c**2, c * s],\n",
    "                           [-c * s, -s**2, s * c, s**2]])\n",
    "    return KE\n",
    "\n",
    "# assemble the stiffness matrix K\n",
    "def get_global_stiffness(nodes, conn, ext_nodes, E, A):\n",
    "    num_nodes, num_el, PD = len(nodes), len(conn), len(nodes[0])\n",
    "    K = np.zeros((num_nodes * PD, num_nodes * PD))  # init (global) stiffness matrix\n",
    "    L = [np.sqrt(nodes[i,0]**2 + nodes[i,1]**2) for i in range(len(conn))]\n",
    "    for i in range(num_el):  # obtain individual element stiffnesses\n",
    "        element_list = conn[i,:]\n",
    "        KE = get_element_stiffness(element_list, ext_nodes, E, A)\n",
    "        for k in range(len(element_list)):  # for each node within element\n",
    "            for l in range(PD):             # get each coordinate\n",
    "                for m in range(len(element_list)):\n",
    "                    for n in range(PD):\n",
    "                        row = ext_nodes[element_list[k], l + 3*PD]\n",
    "                        col = ext_nodes[element_list[m], n + 3*PD]\n",
    "                        val = KE[k*PD + l, m*PD + n]\n",
    "\n",
    "                        K[int(row) - 1, int(col) - 1] += val\n",
    "    return K\n",
    "\n",
    "# assemble the unknown forces\n",
    "def get_forces(nodes, ext_nodes):\n",
    "    num_nodes, PD = len(nodes), len(nodes[0])\n",
    "    DOF = 0\n",
    "    F_new = []\n",
    "\n",
    "    for i in range(num_nodes):  # for each node\n",
    "        for j in range(PD):     # for each dimension\n",
    "            if ext_nodes[i, PD + j] == 1: # if node is not fixed\n",
    "                DOF += 1\n",
    "                F_new.append(ext_nodes[i, 5*PD+j])\n",
    "    return np.array(F_new)\n",
    "\n",
    "# assemble the unknown displacements\n",
    "def get_displacements(nodes, ext_nodes):\n",
    "    num_nodes, PD = len(nodes), len(nodes[0])\n",
    "    DOC = 0\n",
    "    U_new = []\n",
    "\n",
    "    for i in range(num_nodes):  # for each node\n",
    "        for j in range(PD):     # for each dimension\n",
    "            if ext_nodes[i, PD + j] == -1: # if node is not fixed\n",
    "                DOC += 1\n",
    "                U_new.append(ext_nodes[i, 4*PD+j])\n",
    "    return np.array(U_new)\n",
    "\n",
    "# updates the extended nodes with the solution values for displacements and forces\n",
    "def update_ext_nodes(nodes, ext_nodes, U_new, F_u):\n",
    "    num_nodes, PD = len(nodes), len(nodes[0])\n",
    "\n",
    "    DOF = 0  # degrees of freedom\n",
    "    DOC = 0  # degrees of constraint\n",
    "\n",
    "    for i in range(num_nodes):\n",
    "        for j in range(PD):\n",
    "            if ext_nodes[i, PD+j] == 1:\n",
    "                DOF += 1\n",
    "                ext_nodes[i, 4*PD + j] = U_new[DOF - 1]\n",
    "            else:\n",
    "                DOC += 1\n",
    "                ext_nodes[i, 5*PD + j] = F_u[DOC - 1]\n",
    "    return ext_nodes\n",
    "\n",
    "# plotting nodes: numpy array of xs and ys\n",
    "def plot_nodes(nodes, size=10):\n",
    "    plt.figure(figsize=(size,size))\n",
    "    plt.grid(color = 'gray', linewidth=0.2)\n",
    "    plt.scatter(nodes[:,0], nodes[:,1], marker='o')\n",
    "    plt.axis('equal')\n",
    "    plt.title(f\"num of nodes {num_nodes}\")\n",
    "    if size >= 8:  # print node labels\n",
    "        for i,(x,y) in enumerate(nodes):\n",
    "            plt.text(x, y, str(i))\n",
    "    plt.show()\n"
   ]
  },
  {
   "cell_type": "code",
   "execution_count": 118,
   "outputs": [
    {
     "name": "stdout",
     "output_type": "stream",
     "text": [
      "(6,)\n",
      "(3,)\n",
      "(3,)\n",
      "[  0.   0. -20.] [ 0.0005      0.00025    -0.00152254] [-8.8817842e-16  1.0000000e+01  1.0000000e+01]\n",
      "[[ 0.00000000e+00  0.00000000e+00 -1.00000000e+00 -1.00000000e+00\n",
      "  -1.00000000e+00 -2.00000000e+00  4.00000000e+00  5.00000000e+00\n",
      "   0.00000000e+00  0.00000000e+00 -8.88178420e-16  1.00000000e+01]\n",
      " [ 1.00000000e+00  0.00000000e+00  1.00000000e+00 -1.00000000e+00\n",
      "   1.00000000e+00 -3.00000000e+00  1.00000000e+00  6.00000000e+00\n",
      "   5.00000000e-04  0.00000000e+00  0.00000000e+00  1.00000000e+01]\n",
      " [ 5.00000000e-01  1.00000000e+00  1.00000000e+00  1.00000000e+00\n",
      "   2.00000000e+00  3.00000000e+00  2.00000000e+00  3.00000000e+00\n",
      "   2.50000000e-04 -1.52254249e-03  0.00000000e+00 -2.00000000e+01]]\n"
     ]
    }
   ],
   "source": [
    "# material specifications\n",
    "E = 10.0 ** 6   # Youngs modulus\n",
    "A = 0.01        # cross-section area of a bar\n",
    "\n",
    "# defining the structure\n",
    "nodes = np.array([[0, 0],\n",
    "                  [1, 0],\n",
    "                  [0.5, 1]])\n",
    "conn = np.array([[0, 1],\n",
    "                 [1, 2],\n",
    "                 [2, 0]])\n",
    "num_nodes = len(nodes)  # total number of nodes\n",
    "PD = 2                  # problem dimension: 2D\n",
    "\n",
    "# assigning boundary conditions\n",
    "BC = np.array([[-1, -1],  # Dirichlet & Neumann Boundary Conditions\n",
    "               [1, -1],\n",
    "               [1, 1]])\n",
    "    # (-1,-1) -> fixed in X and Y\n",
    "    # ( 1,-1) -> free to move in X and fixed in Y\n",
    "\n",
    "# assigning nodal forces\n",
    "F = np.array([[0,  0],\n",
    "              [0,  0],\n",
    "              [0, -20]])\n",
    "\n",
    "# initial displacements\n",
    "U = np.array([[0, 0],\n",
    "              [0, 0],\n",
    "              [0, 0]])\n",
    "\n",
    "# extended node list (ENL)\n",
    "(localDOF, globalDOF, DOC, DOF) = get_DOF(nodes=nodes, BC=BC)  # get the DOF matrices\n",
    "ext_nodes = np.zeros((num_nodes, 6 * PD))  # nodes, BC, local DoF, global DoF, Displacement, Forces\n",
    "ext_nodes[:, 0:PD] = nodes          # first 2 columns are node list\n",
    "ext_nodes[:, PD:2*PD] = BC          # boundary conditions\n",
    "ext_nodes[:, 2*PD:3*PD] = localDOF  # local DOFs\n",
    "ext_nodes[:, 3*PD:4*PD] = globalDOF # global DOFs\n",
    "ext_nodes[:, 4*PD:5*PD] = U         # displacements\n",
    "ext_nodes[:, 5*PD:6*PD] = F         # forces\n",
    "\n",
    "K = get_global_stiffness(nodes=nodes, conn=conn, ext_nodes=ext_nodes, E=E, A=A)  # calculating global stiffness\n",
    "U, F = U.flatten(), F.flatten()\n",
    "print(F.shape)\n",
    "\n",
    "\n",
    "# finding the new displacements and forces\n",
    "F_p = get_forces(nodes, ext_nodes)        # force prescribed\n",
    "U_p = get_displacements(nodes, ext_nodes) # displacement prescribed\n",
    "\n",
    "print(F_p.shape)\n",
    "\n",
    "# using F = K * U\n",
    "K_UU = K[0:DOF, 0:DOF]\n",
    "K_UP = K[0:DOF, DOF:DOF+DOC]\n",
    "K_PU = K[DOF:DOF+DOC, 0:DOF]\n",
    "K_PP = K[DOF:DOF+DOC, DOF:DOF+DOC]\n",
    "\n",
    "\n",
    "F_com = F_p - np.matmul(K_UP, U_p)                            # 'combined' F\n",
    "U_new = np.matmul(np.linalg.inv(K_UU), F_com)                 # the nodal displacements\n",
    "F_new = np.matmul(K_PU, U_new) + np.matmul(K_PP, U_p)         # the nodal forces\n",
    "ext_nodes = update_ext_nodes(nodes, ext_nodes, U_new, F_new)  # matrix with solutions\n",
    "\n",
    "print(F_com.shape)\n",
    "print(F_com, U_new, F_new)\n",
    "\n",
    "print(ext_nodes)\n",
    "\n"
   ],
   "metadata": {
    "collapsed": false
   }
  },
  {
   "cell_type": "code",
   "execution_count": 161,
   "outputs": [
    {
     "data": {
      "text/plain": "<Figure size 576x576 with 2 Axes>",
      "image/png": "[encoded data removed]"
     },
     "metadata": {
      "needs_background": "light"
     },
     "output_type": "display_data"
    }
   ],
   "source": [
    "ex = 100               # exaggerate the displacement (for display)\n",
    "interpolation_num = 200  # how many points to add in each element\n",
    "num_nodes, num_el, PD = len(nodes), len(conn), len(nodes[0])\n",
    "\n",
    "\n",
    "x_new = nodes[:, 0] + ex * ext_nodes[:, 8]  # new coordinates x\n",
    "y_new = nodes[:, 1] + ex * ext_nodes[:, 9]  # new coordinates y\n",
    "x_old = ext_nodes[:, 0]                    # initial coordinates x\n",
    "y_old = ext_nodes[:, 1]                    # initial coordinates y\n",
    "U_xy = ext_nodes[:, 9:11]              # displacements [x,y]\n",
    "U_abs = np.sqrt(x_new**2 + y_new**2)   # absolute displacements\n",
    "\n",
    "\n",
    "\n",
    "\n",
    "xs, ys, colors = [], [], []    # init plotting points and colors\n",
    "# plotting the lines with different colors (linearly interpolated points)\n",
    "for i in range(num_el):  # for each element\n",
    "    inds = conn[i]\n",
    "    x1, y1 = x_new[inds[0]], y_new[inds[0]]\n",
    "    x2, y2 = x_new[inds[1]], y_new[inds[1]]\n",
    "    if x1 == x2:\n",
    "        xs_i = np.linspace(x1, x2, interpolation_num)\n",
    "        ys_i = np.linspace(y1, y2, interpolation_num)\n",
    "    else:\n",
    "        a = (y2 - y1)/(x2 - x1)  # slope\n",
    "        xs_i = np.linspace(x1, x2, interpolation_num)\n",
    "        ys_i = a*(xs_i - x1) + y1\n",
    "\n",
    "    xs.append(xs_i)\n",
    "    ys.append(ys_i)\n",
    "    colors.append(np.linspace(U_abs[inds[0]], U_abs[inds[1]], interpolation_num))\n",
    "xs, ys, colors = np.array(xs), np.array(ys), np.array(colors)\n",
    "xs, ys, colors = xs.flatten(), ys.flatten(), colors.flatten()\n",
    "\n",
    "f1 = plt.figure(figsize=(8,8)) # init the figure\n",
    "ax1 = f1.add_subplot(111)      # init the axes\n",
    "\n",
    "# plotting the original structure\n",
    "for i in range(num_el):  # for each element\n",
    "    inds = conn[i]\n",
    "    x1, y1 = x_old[inds[0]], y_old[inds[0]]\n",
    "    x2, y2 = x_old[inds[1]], y_old[inds[1]]\n",
    "    ax1.plot([x1, x2], [y1, y2], linewidth=4, color='gray', marker='', zorder=1)\n",
    "\n",
    "# plotting the new displacements\n",
    "cmap = plt.get_cmap('copper')\n",
    "ax1.scatter(xs, ys, c=colors, cmap=cmap, s=12, edgecolor='None', zorder=2)\n",
    "color_scale = Normalize(np.abs(colors.min()), np.abs(colors.max()))  # scale to use in the colorbar\n",
    "f1.colorbar(ScalarMappable(norm=color_scale, cmap=cmap))\n",
    "\n",
    "plt.show()"
   ],
   "metadata": {
    "collapsed": false
   }
  },
  {
   "cell_type": "code",
   "execution_count": 145,
   "outputs": [
    {
     "data": {
      "text/plain": "array([0.        , 0.        , 0.        , 0.        , 0.        ,\n       0.        , 0.        , 0.        , 0.        , 0.        ,\n       0.        , 0.        , 0.        , 0.        , 0.        ,\n       0.        , 0.        , 0.        , 0.        , 0.        ,\n       0.        , 0.        , 0.        , 0.        , 0.        ,\n       0.        , 0.        , 0.        , 0.        , 0.        ,\n       0.        , 0.        , 0.        , 0.        , 0.        ,\n       0.        , 0.        , 0.        , 0.        , 0.        ,\n       0.        , 0.        , 0.        , 0.        , 0.        ,\n       0.        , 0.        , 0.        , 0.        , 0.        ,\n       0.        , 0.        , 0.        , 0.        , 0.        ,\n       0.        , 0.        , 0.        , 0.        , 0.        ,\n       0.        , 0.        , 0.        , 0.        , 0.        ,\n       0.        , 0.        , 0.        , 0.        , 0.        ,\n       0.        , 0.        , 0.        , 0.        , 0.        ,\n       0.        , 0.        , 0.        , 0.        , 0.        ,\n       0.        , 0.        , 0.        , 0.        , 0.        ,\n       0.        , 0.        , 0.        , 0.        , 0.        ,\n       0.        , 0.        , 0.        , 0.        , 0.        ,\n       0.        , 0.        , 0.        , 0.        , 0.        ,\n       1.05      , 1.05      , 1.05      , 1.05      , 1.05      ,\n       1.05      , 1.05      , 1.05      , 1.05      , 1.05      ,\n       1.05      , 1.05      , 1.05      , 1.05      , 1.05      ,\n       1.05      , 1.05      , 1.05      , 1.05      , 1.05      ,\n       1.05      , 1.05      , 1.05      , 1.05      , 1.05      ,\n       1.05      , 1.05      , 1.05      , 1.05      , 1.05      ,\n       1.05      , 1.05      , 1.05      , 1.05      , 1.05      ,\n       1.05      , 1.05      , 1.05      , 1.05      , 1.05      ,\n       1.05      , 1.05      , 1.05      , 1.05      , 1.05      ,\n       1.05      , 1.05      , 1.05      , 1.05      , 1.05      ,\n       1.05      , 1.05      , 1.05      , 1.05      , 1.05      ,\n       1.05      , 1.05      , 1.05      , 1.05      , 1.05      ,\n       1.05      , 1.05      , 1.05      , 1.05      , 1.05      ,\n       1.05      , 1.05      , 1.05      , 1.05      , 1.05      ,\n       1.05      , 1.05      , 1.05      , 1.05      , 1.05      ,\n       1.05      , 1.05      , 1.05      , 1.05      , 1.05      ,\n       1.05      , 1.05      , 1.05      , 1.05      , 1.05      ,\n       1.05      , 1.05      , 1.05      , 1.05      , 1.05      ,\n       1.05      , 1.05      , 1.05      , 1.05      , 1.05      ,\n       1.05      , 1.05      , 1.05      , 1.05      , 1.05      ,\n       0.99714485, 0.99714485, 0.99714485, 0.99714485, 0.99714485,\n       0.99714485, 0.99714485, 0.99714485, 0.99714485, 0.99714485,\n       0.99714485, 0.99714485, 0.99714485, 0.99714485, 0.99714485,\n       0.99714485, 0.99714485, 0.99714485, 0.99714485, 0.99714485,\n       0.99714485, 0.99714485, 0.99714485, 0.99714485, 0.99714485,\n       0.99714485, 0.99714485, 0.99714485, 0.99714485, 0.99714485,\n       0.99714485, 0.99714485, 0.99714485, 0.99714485, 0.99714485,\n       0.99714485, 0.99714485, 0.99714485, 0.99714485, 0.99714485,\n       0.99714485, 0.99714485, 0.99714485, 0.99714485, 0.99714485,\n       0.99714485, 0.99714485, 0.99714485, 0.99714485, 0.99714485,\n       0.99714485, 0.99714485, 0.99714485, 0.99714485, 0.99714485,\n       0.99714485, 0.99714485, 0.99714485, 0.99714485, 0.99714485,\n       0.99714485, 0.99714485, 0.99714485, 0.99714485, 0.99714485,\n       0.99714485, 0.99714485, 0.99714485, 0.99714485, 0.99714485,\n       0.99714485, 0.99714485, 0.99714485, 0.99714485, 0.99714485,\n       0.99714485, 0.99714485, 0.99714485, 0.99714485, 0.99714485,\n       0.99714485, 0.99714485, 0.99714485, 0.99714485, 0.99714485,\n       0.99714485, 0.99714485, 0.99714485, 0.99714485, 0.99714485,\n       0.99714485, 0.99714485, 0.99714485, 0.99714485, 0.99714485,\n       0.99714485, 0.99714485, 0.99714485, 0.99714485, 0.99714485])"
     },
     "execution_count": 145,
     "metadata": {},
     "output_type": "execute_result"
    }
   ],
   "source": [
    "colors"
   ],
   "metadata": {
    "collapsed": false
   }
  },
  {
   "cell_type": "code",
   "execution_count": 146,
   "outputs": [
    {
     "data": {
      "text/plain": "[<matplotlib.lines.Line2D at 0x7fa4d2e69af0>]"
     },
     "execution_count": 146,
     "metadata": {},
     "output_type": "execute_result"
    },
    {
     "data": {
      "text/plain": "<Figure size 432x288 with 1 Axes>",
      "image/png": "[encoded data removed]"
     },
     "metadata": {
      "needs_background": "light"
     },
     "output_type": "display_data"
    }
   ],
   "source": [
    "plt.plot(colors)"
   ],
   "metadata": {
    "collapsed": false
   }
  },
  {
   "cell_type": "code",
   "execution_count": null,
   "outputs": [],
   "source": [],
   "metadata": {
    "collapsed": false
   }
  }
 ],
 "metadata": {
  "kernelspec": {
   "display_name": "Python 3",
   "language": "python",
   "name": "python3"
  },
  "language_info": {
   "codemirror_mode": {
    "name": "ipython",
    "version": 2
   },
   "file_extension": ".py",
   "mimetype": "text/x-python",
   "name": "python",
   "nbconvert_exporter": "python",
   "pygments_lexer": "ipython2",
   "version": "2.7.6"
  }
 },
 "nbformat": 4,
 "nbformat_minor": 0
}
