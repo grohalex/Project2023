{
 "cells": [
  {
   "cell_type": "code",
   "execution_count": 44,
   "metadata": {
    "collapsed": true
   },
   "outputs": [],
   "source": [
    "# in the previous code the elements were rectangles/quadrilaterals\n",
    "# -> in this code they are BARS (LINES) = simpler!\n",
    "# useful reference by Mert Solen (https://youtu.be/tv1TlAebvm0)\n",
    "\n",
    "import numpy as np\n",
    "\n",
    "# auxiliary ftions: extended_nodes updates\n",
    "# returns local DOF matrix, global DOF matrix, tot num of DOC, tot num of DOF\n",
    "def get_DOF(nodes, BC):\n",
    "    num_nodes, PD = len(nodes), len(nodes[0])\n",
    "\n",
    "    DOF = 0  # degrees of freedom\n",
    "    DOC = 0  # degrees of constraint\n",
    "\n",
    "    local_DOF = np.zeros((num_nodes, PD))\n",
    "    global_DOF = np.zeros((num_nodes, PD))\n",
    "\n",
    "    for i in range(num_nodes):\n",
    "        for j in range(PD):\n",
    "            if BC[i, j] == -1:\n",
    "                DOC -= 1\n",
    "                local_DOF[i, j] = DOC\n",
    "            else:\n",
    "                DOF += 1\n",
    "                local_DOF[i, j] = DOF\n",
    "\n",
    "    for i in range(num_nodes):\n",
    "        for j in range(PD):\n",
    "            if local_DOF[i, j] < 0:\n",
    "                global_DOF[i, j] = abs(local_DOF[i, j]) + DOF\n",
    "            else:\n",
    "                global_DOF[i, j] = abs(local_DOF[i, j])\n",
    "\n",
    "    return (local_DOF, global_DOF, DOC, DOF)\n",
    "\n",
    "# obtain the element stiffness matrix based on the list of nodes in an element (el_list)\n",
    "def get_element_stiffness(el_list, ext_nodes, E, A):\n",
    "    X1 = ext_nodes[el_list[0], 0]\n",
    "    Y1 = ext_nodes[el_list[0], 1]\n",
    "    X2 = ext_nodes[el_list[1], 0]\n",
    "    Y2 = ext_nodes[el_list[1], 1]\n",
    "\n",
    "    L = np.sqrt((X1 - X2)**2 + (Y1 - Y2)**2)\n",
    "    c = (X2 - X1) / L\n",
    "    s = (Y2 - Y1) / L\n",
    "    KE = E*A/L * np.array([[c**2, c * s, -c**2, -c * s],\n",
    "                           [c * s, s**2, - c * s, -s**2],\n",
    "                           [-c**2, -c * s, c**2, c * s],\n",
    "                           [-c * s, -s**2, s * c, s**2]])\n",
    "    return KE\n",
    "\n",
    "# assemble the stiffness matrix K\n",
    "def get_global_stiffness(nodes, conn, ext_nodes, E, A):\n",
    "    num_nodes, num_el, PD = len(nodes), len(conn), len(nodes[0])\n",
    "    K = np.zeros((num_nodes * PD, num_nodes * PD))  # init (global) stiffness matrix\n",
    "    L = [np.sqrt(nodes[i,0]**2 + nodes[i,1]**2) for i in range(len(conn))]\n",
    "    for i in range(num_el):  # obtain individual element stiffnesses\n",
    "        element_list = conn[i,:]\n",
    "        KE = get_element_stiffness(element_list, ext_nodes, E, A)\n",
    "        for k in range(len(element_list)):  # for each node within element\n",
    "            for l in range(PD):             # get each coordinate\n",
    "                for m in range(len(element_list)):\n",
    "                    for n in range(PD):\n",
    "                        row = ext_nodes[element_list[k], l + 3*PD]\n",
    "                        col = ext_nodes[element_list[m], n + 3*PD]\n",
    "                        val = KE[k*PD + l, m*PD + n]\n",
    "\n",
    "                        K[int(row) - 1, int(col) - 1] += val\n",
    "    return K\n",
    "\n",
    "# assemble the unknown forces\n",
    "def get_forces(nodes, ext_nodes):\n",
    "    num_nodes, PD = len(nodes), len(nodes[0])\n",
    "    DOF = 0\n",
    "    F_new = []\n",
    "\n",
    "    for i in range(num_nodes):  # for each node\n",
    "        for j in range(PD):     # for each dimension\n",
    "            if ext_nodes[i, PD + j] == 1: # if node is not fixed\n",
    "                DOF += 1\n",
    "                F_new.append(ext_nodes[i, 5*PD+j])\n",
    "    return np.array(F_new)\n",
    "\n",
    "# assemble the unknown displacements\n",
    "def get_displacements(nodes, ext_nodes):\n",
    "    num_nodes, PD = len(nodes), len(nodes[0])\n",
    "    DOC = 0\n",
    "    U_new = []\n",
    "\n",
    "    for i in range(num_nodes):  # for each node\n",
    "        for j in range(PD):     # for each dimension\n",
    "            if ext_nodes[i, PD + j] == -1: # if node is not fixed\n",
    "                DOC += 1\n",
    "                U_new.append(ext_nodes[i, 4*PD+j])\n",
    "    return np.array(U_new)\n",
    "\n",
    "# updates the extended nodes with the solution values for displacements and forces\n",
    "def update_ext_nodes(nodes, ext_nodes, U_new, F_u):\n",
    "    num_nodes, PD = len(nodes), len(nodes[0])\n",
    "\n",
    "    DOF = 0  # degrees of freedom\n",
    "    DOC = 0  # degrees of constraint\n",
    "\n",
    "    for i in range(num_nodes):\n",
    "        for j in range(PD):\n",
    "            if ext_nodes[i, PD+j] == 1:\n",
    "                DOF += 1\n",
    "                ext_nodes[i, 4*PD + j] = U_new[DOF - 1]\n",
    "            else:\n",
    "                DOC += 1\n",
    "                ext_nodes[i, 5*PD + j] = F_u[DOC - 1]\n",
    "    return ext_nodes\n"
   ]
  },
  {
   "cell_type": "code",
   "execution_count": 45,
   "outputs": [
    {
     "ename": "AttributeError",
     "evalue": "'numpy.ndarray' object has no attribute 'append'",
     "output_type": "error",
     "traceback": [
      "\u001B[0;31m---------------------------------------------------------------------------\u001B[0m",
      "\u001B[0;31mAttributeError\u001B[0m                            Traceback (most recent call last)",
      "\u001B[0;32m<ipython-input-45-ef111950f469>\u001B[0m in \u001B[0;36m<module>\u001B[0;34m\u001B[0m\n\u001B[1;32m     45\u001B[0m \u001B[0;31m# finding the new displacements and forces\u001B[0m\u001B[0;34m\u001B[0m\u001B[0;34m\u001B[0m\u001B[0;34m\u001B[0m\u001B[0m\n\u001B[1;32m     46\u001B[0m \u001B[0mF_new\u001B[0m \u001B[0;34m=\u001B[0m \u001B[0mget_forces\u001B[0m\u001B[0;34m(\u001B[0m\u001B[0mnodes\u001B[0m\u001B[0;34m,\u001B[0m \u001B[0mext_nodes\u001B[0m\u001B[0;34m)\u001B[0m\u001B[0;34m\u001B[0m\u001B[0;34m\u001B[0m\u001B[0m\n\u001B[0;32m---> 47\u001B[0;31m \u001B[0mU_new\u001B[0m \u001B[0;34m=\u001B[0m \u001B[0mget_displacements\u001B[0m\u001B[0;34m(\u001B[0m\u001B[0mnodes\u001B[0m\u001B[0;34m,\u001B[0m \u001B[0mext_nodes\u001B[0m\u001B[0;34m)\u001B[0m\u001B[0;34m\u001B[0m\u001B[0;34m\u001B[0m\u001B[0m\n\u001B[0m\u001B[1;32m     48\u001B[0m \u001B[0;34m\u001B[0m\u001B[0m\n\u001B[1;32m     49\u001B[0m \u001B[0mprint\u001B[0m\u001B[0;34m(\u001B[0m\u001B[0mext_nodes\u001B[0m\u001B[0;34m)\u001B[0m\u001B[0;34m\u001B[0m\u001B[0;34m\u001B[0m\u001B[0m\n",
      "\u001B[0;32m<ipython-input-44-ed7023d48b27>\u001B[0m in \u001B[0;36mget_displacements\u001B[0;34m(nodes, ext_nodes)\u001B[0m\n\u001B[1;32m     92\u001B[0m             \u001B[0;32mif\u001B[0m \u001B[0mext_nodes\u001B[0m\u001B[0;34m[\u001B[0m\u001B[0mi\u001B[0m\u001B[0;34m,\u001B[0m \u001B[0mPD\u001B[0m \u001B[0;34m+\u001B[0m \u001B[0mj\u001B[0m\u001B[0;34m]\u001B[0m \u001B[0;34m==\u001B[0m \u001B[0;34m-\u001B[0m\u001B[0;36m1\u001B[0m\u001B[0;34m:\u001B[0m \u001B[0;31m# if node is not fixed\u001B[0m\u001B[0;34m\u001B[0m\u001B[0;34m\u001B[0m\u001B[0m\n\u001B[1;32m     93\u001B[0m                 \u001B[0mDOC\u001B[0m \u001B[0;34m+=\u001B[0m \u001B[0;36m1\u001B[0m\u001B[0;34m\u001B[0m\u001B[0;34m\u001B[0m\u001B[0m\n\u001B[0;32m---> 94\u001B[0;31m                 \u001B[0mF_new\u001B[0m\u001B[0;34m.\u001B[0m\u001B[0mappend\u001B[0m\u001B[0;34m(\u001B[0m\u001B[0mext_nodes\u001B[0m\u001B[0;34m[\u001B[0m\u001B[0mi\u001B[0m\u001B[0;34m,\u001B[0m \u001B[0;36m4\u001B[0m\u001B[0;34m*\u001B[0m\u001B[0mPD\u001B[0m\u001B[0;34m+\u001B[0m\u001B[0mj\u001B[0m\u001B[0;34m]\u001B[0m\u001B[0;34m)\u001B[0m\u001B[0;34m\u001B[0m\u001B[0;34m\u001B[0m\u001B[0m\n\u001B[0m\u001B[1;32m     95\u001B[0m     \u001B[0;32mreturn\u001B[0m \u001B[0mnp\u001B[0m\u001B[0;34m.\u001B[0m\u001B[0marray\u001B[0m\u001B[0;34m(\u001B[0m\u001B[0mU_new\u001B[0m\u001B[0;34m)\u001B[0m\u001B[0;34m\u001B[0m\u001B[0;34m\u001B[0m\u001B[0m\n\u001B[1;32m     96\u001B[0m \u001B[0;34m\u001B[0m\u001B[0m\n",
      "\u001B[0;31mAttributeError\u001B[0m: 'numpy.ndarray' object has no attribute 'append'"
     ]
    }
   ],
   "source": [
    "# material specifications\n",
    "E = 10.0 ** 6   # Youngs modulus\n",
    "A = 0.01        # cross-section area of a bar\n",
    "\n",
    "# defining the structure\n",
    "nodes = np.array([[0, 0],\n",
    "                  [1, 0],\n",
    "                  [0.5, 1]])\n",
    "conn = np.array([[0, 1],\n",
    "                 [1, 2],\n",
    "                 [2, 0]])\n",
    "num_nodes = len(nodes)  # total number of nodes\n",
    "PD = 2                  # problem dimension: 2D\n",
    "\n",
    "# assigning boundary conditions\n",
    "BC = np.array([[-1, -1],  # Dirichlet & Neumann Boundary Conditions\n",
    "               [1, -1],\n",
    "               [1, 1]])\n",
    "    # (-1,-1) -> fixed in X and Y\n",
    "    # ( 1,-1) -> free to move in X and fixed in Y\n",
    "\n",
    "# assigning nodal forces\n",
    "F = np.array([[0,  0],\n",
    "              [0,  0],\n",
    "              [0, -20]])\n",
    "\n",
    "# initial displacements\n",
    "U = np.array([[0, 0],\n",
    "              [0, 0],\n",
    "              [0, 0]])\n",
    "\n",
    "# extended node list (ENL)\n",
    "(localDOF, globalDOF, DOC, DOF) = get_DOF(nodes=nodes, BC=BC)  # get the DOF matrices\n",
    "ext_nodes = np.zeros((num_nodes, 6 * PD))  # nodes, BC, local DoF, global DoF, Displacement, Forces\n",
    "ext_nodes[:, 0:PD] = nodes          # first 2 columns are node list\n",
    "ext_nodes[:, PD:2*PD] = BC          # boundary conditions\n",
    "ext_nodes[:, 2*PD:3*PD] = localDOF  # local DOFs\n",
    "ext_nodes[:, 3*PD:4*PD] = globalDOF # global DOFs\n",
    "ext_nodes[:, 4*PD:5*PD] = U         # displacements\n",
    "ext_nodes[:, 5*PD:6*PD] = F         # forces\n",
    "\n",
    "K = get_global_stiffness(nodes=nodes, conn=conn, ext_nodes=ext_nodes, E=E, A=A)  # calculating global stiffness\n",
    "U, F = U.flatten(), F.flatten()\n",
    "\n",
    "# finding the new displacements and forces\n",
    "F_p = get_forces(nodes, ext_nodes)        # force prescribed\n",
    "U_p = get_displacements(nodes, ext_nodes) # displacement prescribed\n",
    "\n",
    "# using F = K * U\n",
    "K_UU = K[0:DOF, 0:DOF]\n",
    "K_UP = K[0:DOF, DOF:DOF+DOC]\n",
    "K_PU = K[DOF:DOF+DOC, 0:DOF]\n",
    "K_PP = K[DOF:DOF+DOC, DOF:DOF+DOC]\n",
    "\n",
    "F_new = F_p - np.matmul(K_UP, U_p)\n",
    "U_new = np.matmul(np.linalg.inv(K_UU), F_new)\n",
    "F_u = np.matmul(K_PU, U_new) + np.matmul(K_PP, U_p)\n",
    "\n",
    "\n",
    "print(ext_nodes)\n",
    "\n"
   ],
   "metadata": {
    "collapsed": false
   }
  },
  {
   "cell_type": "code",
   "execution_count": 14,
   "outputs": [
    {
     "data": {
      "text/plain": "array([1, 2, 3, 4, 5])"
     },
     "execution_count": 14,
     "metadata": {},
     "output_type": "execute_result"
    }
   ],
   "source": [
    "a0"
   ],
   "metadata": {
    "collapsed": false
   }
  },
  {
   "cell_type": "code",
   "execution_count": 15,
   "outputs": [
    {
     "data": {
      "text/plain": "array([2, 3, 4, 5, 6])"
     },
     "execution_count": 15,
     "metadata": {},
     "output_type": "execute_result"
    }
   ],
   "source": [
    "a1"
   ],
   "metadata": {
    "collapsed": false
   }
  },
  {
   "cell_type": "code",
   "execution_count": null,
   "outputs": [],
   "source": [],
   "metadata": {
    "collapsed": false
   }
  }
 ],
 "metadata": {
  "kernelspec": {
   "display_name": "Python 3",
   "language": "python",
   "name": "python3"
  },
  "language_info": {
   "codemirror_mode": {
    "name": "ipython",
    "version": 2
   },
   "file_extension": ".py",
   "mimetype": "text/x-python",
   "name": "python",
   "nbconvert_exporter": "python",
   "pygments_lexer": "ipython2",
   "version": "2.7.6"
  }
 },
 "nbformat": 4,
 "nbformat_minor": 0
}
