{
 "cells": [
  {
   "cell_type": "markdown",
   "source": [
    "---\n",
    "# Gmsh Tutorials\n",
    "- this notebook aims to develop my skills using Gmsh Python API\n",
    "- python-specific reference: https://gmsh.info/doc/texinfo/gmsh.html#x1\n"
   ],
   "metadata": {
    "collapsed": false
   }
  },
  {
   "cell_type": "code",
   "execution_count": 28,
   "metadata": {
    "collapsed": true
   },
   "outputs": [
    {
     "name": "stdout",
     "output_type": "stream",
     "text": [
      "Info    : Meshing 1D...\n",
      "Info    : [  0%] Meshing curve 1 (Line)\n",
      "Info    : [ 30%] Meshing curve 2 (Line)\n",
      "Info    : [ 50%] Meshing curve 3 (Line)\n",
      "Info    : [ 80%] Meshing curve 4 (Line)\n",
      "Info    : Done meshing 1D (Wall 0.000488143s, CPU 0.000736s)\n",
      "Info    : Meshing 2D...\n",
      "Info    : Meshing surface 1 (Plane, Frontal-Delaunay)\n",
      "Info    : Done meshing 2D (Wall 0.00486965s, CPU 0.004591s)\n",
      "Info    : 143 nodes 288 elements\n",
      "Info    : Writing './meshes/test_mesh.msh'...\n",
      "Info    : Done writing './meshes/test_mesh.msh'\n",
      "Info    : Writing './meshes/test_mesh.stl'...\n",
      "Info    : Done writing './meshes/test_mesh.stl'\n",
      "-------------------------------------------------------\n",
      "Version       : 4.11.1\n",
      "License       : GNU General Public License\n",
      "Build OS      : MacOSX-sdk\n",
      "Build date    : 20230510\n",
      "Build host    : Mac-1683750338053.local\n",
      "Build options : 64Bit ALGLIB[contrib] ANN[contrib] Bamg Blossom Cairo DIntegration Dlopen DomHex Eigen[contrib] Fltk GMP Gmm[contrib] Hxt Jpeg Kbipack MathEx[contrib] Mesh Metis[contrib] Mpeg Netgen ONELAB ONELABMetamodel OpenCASCADE OpenCASCADE-CAF OpenGL OpenMP OptHom Parser Plugins Png Post QuadMeshingTools QuadTri Solver TetGen/BR Voro++[contrib] WinslowUntangler Zlib\n",
      "FLTK version  : 1.3.8\n",
      "OCC version   : 7.7.1\n",
      "Packaged by   : runner\n",
      "Web site      : https://gmsh.info\n",
      "Issue tracker : https://gitlab.onelab.info/gmsh/gmsh/issues\n",
      "-------------------------------------------------------\n"
     ]
    }
   ],
   "source": [
    "# Tutorial 1 - Geometry basics, elementary entities, physical groups\n",
    "# https://gitlab.onelab.info/gmsh/gmsh/blob/gmsh_4_11_1/tutorials/python/t1.py\n",
    "import gmsh\n",
    "import sys\n",
    "\n",
    "# Before using any functions in the Python API, Gmsh must be initialized:\n",
    "if not gmsh.is_initialized():\n",
    "    gmsh.initialize()\n",
    "\n",
    "# Next we add a new model named \"t1\":\n",
    "Name = \"test_mesh\"\n",
    "gmsh.model.add(Name)\n",
    "\n",
    "\n",
    "# 1.POINTS: The first type of `elementary entity' in Gmsh is a `Point'. To create a point\n",
    "# the Python API function is gmsh.model.geo.addPoint()  or gmsh.model.geo.add_point()\n",
    "# 3 arguments are the point coordinates (x, y, z)\n",
    "# - the next (optional) argument is the target mesh size close to the point\n",
    "# - the last (optional) argument is the point tag/identifier\n",
    "lc = 1  # target mesh size\n",
    "z = 0   # fixed z coordinate\n",
    "gmsh.model.geo.addPoint(0, 0, z, lc, 1)\n",
    "gmsh.model.geo.addPoint(0, 10, 0, lc, 2)\n",
    "gmsh.model.geo.addPoint(10, 10, 0, lc, 3)\n",
    "gmsh.model.geo.addPoint(10, 0, 0, lc, 4)\n",
    "\n",
    "# 2.LINES: Curves are second type of elementery entities\n",
    "# Straight line segments: the first 2 arguments are\n",
    "# - point tags (the start and end points of the line)\n",
    "# - the last (optional) is the line tag.\n",
    "gmsh.model.geo.addLine(1, 2, 1)\n",
    "gmsh.model.geo.addLine(2, 3, 2)\n",
    "gmsh.model.geo.addLine(3, 4, 3)\n",
    "gmsh.model.geo.addLine(4, 1, 4)\n",
    "\n",
    "\n",
    "# 3.SURFACES: to define a simple rectangular surface, curve loop (ordered list of connected curves)\n",
    "# has to be defined.  Arguments are\n",
    "# - list of curve tags\n",
    "# - the curve loop tag (which must be unique\n",
    "# amongst curve loops) as the second (optional) argument:\n",
    "gmsh.model.geo.addCurveLoop([1, 2, 3, 4], 1)\n",
    "\n",
    "# add the surface as a list of curve loops: outline + holes(optional)\n",
    "gmsh.model.geo.addPlaneSurface([1], 1)\n",
    "\n",
    "\n",
    "# Before it can be meshed (and, more generally, before it can be used by API\n",
    "# functions outside of the built-in CAD kernel functions), the CAD entities must\n",
    "# be synchronized with the Gmsh model\n",
    "gmsh.model.geo.synchronize()\n",
    "\n",
    "\n",
    "# physical groups: mathematical (\"domain\", \"boundary\"), functional (\"left wing\", \"fuselage\") ...\n",
    "# Here we define a physical curve that groups the left, right and bottom curves\n",
    "# in a single group (with prescribed tag 5); and a physical surface with name\n",
    "# \"My surface\" (with an automatic tag) containing the geometrical surface 1:\n",
    "gmsh.model.addPhysicalGroup(1, [1, 3, 4], 5)              # curves physical group\n",
    "gmsh.model.addPhysicalGroup(2, [1], name=\"My surface\")  # surfaces physical group\n",
    "\n",
    "\n",
    "# generate a 2D mesh\n",
    "gmsh.model.mesh.generate(2)\n",
    "\n",
    "\n",
    "# save it to disk (by default only physical groups are saved)\n",
    "gmsh.write(f\"./meshes/{Name}.msh\")\n",
    "gmsh.write(f\"./meshes/{Name}.stl\")\n",
    "\n",
    "# By default, if physical groups are defined, Gmsh will export in\n",
    "# the output mesh file only those elements that belong to at least one physical\n",
    "# group. To force Gmsh to save all elements, you can use:\n",
    "#    gmsh.option.setNumber(\"Mesh.SaveAll\", 1)\n",
    "\n",
    "\n",
    "# visualize the model in the GUI\n",
    "gmsh.fltk.run()\n",
    "\n",
    "# when finished with Gmsh Python API:\n",
    "gmsh.finalize()"
   ]
  },
  {
   "cell_type": "code",
   "execution_count": null,
   "outputs": [],
   "source": [],
   "metadata": {
    "collapsed": false
   }
  }
 ],
 "metadata": {
  "kernelspec": {
   "display_name": "Python 3",
   "language": "python",
   "name": "python3"
  },
  "language_info": {
   "codemirror_mode": {
    "name": "ipython",
    "version": 2
   },
   "file_extension": ".py",
   "mimetype": "text/x-python",
   "name": "python",
   "nbconvert_exporter": "python",
   "pygments_lexer": "ipython2",
   "version": "2.7.6"
  }
 },
 "nbformat": 4,
 "nbformat_minor": 0
}
