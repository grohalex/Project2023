{
 "cells": [
  {
   "cell_type": "code",
   "execution_count": 3,
   "metadata": {
    "collapsed": true
   },
   "outputs": [
    {
     "name": "stdout",
     "output_type": "stream",
     "text": [
      "Info    : Reading 'ex04_mesh.json'...\n"
     ]
    },
    {
     "name": "stderr",
     "output_type": "stream",
     "text": [
      "Error   : 'ex04_mesh.json', line 0: syntax error ({)\n"
     ]
    },
    {
     "ename": "Exception",
     "evalue": "'ex04_mesh.json', line 0: syntax error ({)",
     "output_type": "error",
     "traceback": [
      "\u001B[0;31m---------------------------------------------------------------------------\u001B[0m",
      "\u001B[0;31mException\u001B[0m                                 Traceback (most recent call last)",
      "Cell \u001B[0;32mIn[3], line 17\u001B[0m\n\u001B[1;32m     14\u001B[0m \u001B[38;5;66;03m# You can run this tutorial on any file that Gmsh can read, e.g. a mesh file in\u001B[39;00m\n\u001B[1;32m     15\u001B[0m \u001B[38;5;66;03m# the MSH format: `python t1.py file.msh'\u001B[39;00m\n\u001B[1;32m     16\u001B[0m gmsh\u001B[38;5;241m.\u001B[39minitialize()\n\u001B[0;32m---> 17\u001B[0m \u001B[43mgmsh\u001B[49m\u001B[38;5;241;43m.\u001B[39;49m\u001B[43mopen\u001B[49m\u001B[43m(\u001B[49m\u001B[38;5;124;43m'\u001B[39;49m\u001B[38;5;124;43mex04_mesh.json\u001B[39;49m\u001B[38;5;124;43m'\u001B[39;49m\u001B[43m)\u001B[49m\n\u001B[1;32m     21\u001B[0m \u001B[38;5;124;03m'''\u001B[39;00m\n\u001B[1;32m     22\u001B[0m \u001B[38;5;124;03m# Print the model name and dimension:\u001B[39;00m\n\u001B[1;32m     23\u001B[0m \u001B[38;5;124;03mprint('Model ' + gmsh.model.getCurrent() + ' (' +\u001B[39;00m\n\u001B[0;32m   (...)\u001B[0m\n\u001B[1;32m    117\u001B[0m \n\u001B[1;32m    118\u001B[0m \u001B[38;5;124;03m'''\u001B[39;00m\n",
      "File \u001B[0;32m/opt/anaconda3/envs/fenics_environment/lib/python3.8/site-packages/gmsh.py:336\u001B[0m, in \u001B[0;36mopen\u001B[0;34m(fileName)\u001B[0m\n\u001B[1;32m    332\u001B[0m lib\u001B[38;5;241m.\u001B[39mgmshOpen(\n\u001B[1;32m    333\u001B[0m     c_char_p(fileName\u001B[38;5;241m.\u001B[39mencode()),\n\u001B[1;32m    334\u001B[0m     byref(ierr))\n\u001B[1;32m    335\u001B[0m \u001B[38;5;28;01mif\u001B[39;00m ierr\u001B[38;5;241m.\u001B[39mvalue \u001B[38;5;241m!=\u001B[39m \u001B[38;5;241m0\u001B[39m:\n\u001B[0;32m--> 336\u001B[0m     \u001B[38;5;28;01mraise\u001B[39;00m \u001B[38;5;167;01mException\u001B[39;00m(logger\u001B[38;5;241m.\u001B[39mgetLastError())\n",
      "\u001B[0;31mException\u001B[0m: 'ex04_mesh.json', line 0: syntax error ({)"
     ]
    }
   ],
   "source": [
    "# this notebook aims to develop my skills using Gmsh Python API\n",
    "# python-specific reference: https://gmsh.info/doc/texinfo/gmsh.html#x1\n",
    "\n",
    "##  Gmsh Python extended tutorial 1\n",
    "# The Python API allows to do much more than what can be done in .geo\n",
    "# files. These additional features are introduced gradually in the extended\n",
    "# tutorials, starting with `x1.py'.\n",
    "\n",
    "# In this first extended tutorial, we start by using the API to access basic\n",
    "# geometrical and mesh data.\n",
    "\n",
    "import gmsh\n",
    "\n",
    "# You can run this tutorial on any file that Gmsh can read, e.g. a mesh file in\n",
    "# the MSH format: `python t1.py file.msh'\n",
    "gmsh.initialize()\n",
    "gmsh.open('ex04_mesh.json')\n",
    "\n",
    "\n",
    "\n",
    "'''\n",
    "# Print the model name and dimension:\n",
    "print('Model ' + gmsh.model.getCurrent() + ' (' +\n",
    "      str(gmsh.model.getDimension()) + 'D)')\n",
    "\n",
    "# Geometrical data is made of elementary model `entities', called `points'\n",
    "# (entities of dimension 0), `curves' (entities of dimension 1), `surfaces'\n",
    "# (entities of dimension 2) and `volumes' (entities of dimension 3). As we have\n",
    "# seen in the other Python tutorials, elementary model entities are identified\n",
    "# by their dimension and by a `tag': a strictly positive identification\n",
    "# number. Model entities can be either CAD entities (from the built-in `geo'\n",
    "# kernel or from the OpenCASCADE `occ' kernel) or `discrete' entities (defined\n",
    "# by a mesh). `Physical groups' are collections of model entities and are also\n",
    "# identified by their dimension and by a tag.\n",
    "\n",
    "# Get all the elementary entities in the model, as a vector of (dimension, tag)\n",
    "# pairs:\n",
    "entities = gmsh.model.getEntities()\n",
    "\n",
    "for e in entities:\n",
    "    # Dimension and tag of the entity:\n",
    "    dim = e[0]\n",
    "    tag = e[1]\n",
    "\n",
    "    # Mesh data is made of `elements' (points, lines, triangles, ...), defined\n",
    "    # by an ordered list of their `nodes'. Elements and nodes are identified by\n",
    "    # `tags' as well (strictly positive identification numbers), and are stored\n",
    "    # (\"classified\") in the model entity they discretize. Tags for elements and\n",
    "    # nodes are globally unique (and not only per dimension, like entities).\n",
    "\n",
    "    # A model entity of dimension 0 (a geometrical point) will contain a mesh\n",
    "    # element of type point, as well as a mesh node. A model curve will contain\n",
    "    # line elements as well as its interior nodes, while its boundary nodes will\n",
    "    # be stored in the bounding model points. A model surface will contain\n",
    "    # triangular and/or quadrangular elements and all the nodes not classified\n",
    "    # on its boundary or on its embedded entities. A model volume will contain\n",
    "    # tetrahedra, hexahedra, etc. and all the nodes not classified on its\n",
    "    # boundary or on its embedded entities.\n",
    "\n",
    "    # Get the mesh nodes for the entity (dim, tag):\n",
    "    nodeTags, nodeCoords, nodeParams = gmsh.model.mesh.getNodes(dim, tag)\n",
    "\n",
    "    # Get the mesh elements for the entity (dim, tag):\n",
    "    elemTypes, elemTags, elemNodeTags = gmsh.model.mesh.getElements(dim, tag)\n",
    "\n",
    "    # Elements can also be obtained by type, by using `getElementTypes()'\n",
    "    # followed by `getElementsByType()'.\n",
    "\n",
    "    # Let's print a summary of the information available on the entity and its\n",
    "    # mesh.\n",
    "\n",
    "    # * Type and name of the entity:\n",
    "    type = gmsh.model.getType(e[0], e[1])\n",
    "    name = gmsh.model.getEntityName(e[0], e[1])\n",
    "    if len(name): name += ' '\n",
    "    print(\"Entity \" + name + str(e) + \" of type \" + type)\n",
    "\n",
    "    # * Number of mesh nodes and elements:\n",
    "    numElem = sum(len(i) for i in elemTags)\n",
    "    print(\" - Mesh has \" + str(len(nodeTags)) + \" nodes and \" + str(numElem) +\n",
    "          \" elements\")\n",
    "\n",
    "    # * Upward and downward adjacencies:\n",
    "    up, down = gmsh.model.getAdjacencies(e[0], e[1])\n",
    "    if len(up):\n",
    "        print(\" - Upward adjacencies: \" + str(up))\n",
    "    if len(down):\n",
    "        print(\" - Downward adjacencies: \" + str(down))\n",
    "\n",
    "    # * Does the entity belong to physical groups?\n",
    "    physicalTags = gmsh.model.getPhysicalGroupsForEntity(dim, tag)\n",
    "    if len(physicalTags):\n",
    "        s = ''\n",
    "        for p in physicalTags:\n",
    "            n = gmsh.model.getPhysicalName(dim, p)\n",
    "            if n: n += ' '\n",
    "            s += n + '(' + str(dim) + ', ' + str(p) + ') '\n",
    "        print(\" - Physical groups: \" + s)\n",
    "\n",
    "    # * Is the entity a partition entity? If so, what is its parent entity?\n",
    "    partitions = gmsh.model.getPartitions(e[0], e[1])\n",
    "    if len(partitions):\n",
    "        print(\" - Partition tags: \" + str(partitions) + \" - parent entity \" +\n",
    "              str(gmsh.model.getParent(e[0], e[1])))\n",
    "\n",
    "    # * List all types of elements making up the mesh of the entity:\n",
    "    for t in elemTypes:\n",
    "        name, dim, order, numv, parv, _ = gmsh.model.mesh.getElementProperties(\n",
    "            t)\n",
    "        print(\" - Element type: \" + name + \", order \" + str(order) + \" (\" +\n",
    "              str(numv) + \" nodes in param coord: \" + str(parv) + \")\")\n",
    "\n",
    "# We can use this to clear all the model data:\n",
    "gmsh.clear()\n",
    "\n",
    "gmsh.finalize()\n",
    "\n",
    "'''"
   ]
  },
  {
   "cell_type": "code",
   "execution_count": null,
   "outputs": [],
   "source": [],
   "metadata": {
    "collapsed": false
   }
  }
 ],
 "metadata": {
  "kernelspec": {
   "display_name": "Python 3",
   "language": "python",
   "name": "python3"
  },
  "language_info": {
   "codemirror_mode": {
    "name": "ipython",
    "version": 2
   },
   "file_extension": ".py",
   "mimetype": "text/x-python",
   "name": "python",
   "nbconvert_exporter": "python",
   "pygments_lexer": "ipython2",
   "version": "2.7.6"
  }
 },
 "nbformat": 4,
 "nbformat_minor": 0
}
