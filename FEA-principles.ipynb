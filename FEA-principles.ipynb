{
 "cells": [
  {
   "cell_type": "code",
   "execution_count": 1,
   "metadata": {
    "collapsed": true
   },
   "outputs": [],
   "source": [
    "# in this notebook I will develop a vanilla version of FEA using only basic python functions\n",
    "# Based on PolymerFEM: https://youtu.be/1j_HdsVkglk\n",
    "# Description: linear finite element analysis for 2D plane strain for linear elastic materials\n",
    "# Units: mm\n",
    "\n",
    "import numpy as np\n",
    "import math\n",
    "from matplotlib import pyplot as plt"
   ]
  },
  {
   "cell_type": "code",
   "execution_count": 24,
   "outputs": [],
   "source": [
    "# defining helper ftions\n",
    "\n",
    "# converting 'natural' coordinates xi, eta into shape functions: (n1, n2, n3, n4)\n",
    "def shape(xi,eta):\n",
    "    N1 = (1 - xi) * (1 - eta)\n",
    "    N2 = (1 + xi) * (1 - eta)\n",
    "    N3 = (1 + xi) * (1 + eta)\n",
    "    N4 = (1 - xi) * (1 + eta)\n",
    "    Ns = np.array([N1, N2, N3, N4])\n",
    "    return 0.25 * Ns\n",
    "\n",
    "# 'natural' coordinates xi, eta into gradients of the shape ftions: [(dn1/dx, dn2/dx...), (dn1/de), dn2/de,...)]\n",
    "def grad_shape(xi, eta):\n",
    "    dN = np.array([[-1 * (1-eta), 1 * (1-eta), 1 * (1+eta), -1 * (1+eta)],\n",
    "                   [-1 * (1-xi), -1 * (1+xi), 1 * (1+xi), 1 * (1-xi)]])\n",
    "    return 0.25 * dN"
   ],
   "metadata": {
    "collapsed": false
   }
  },
  {
   "cell_type": "code",
   "execution_count": 22,
   "outputs": [],
   "source": [],
   "metadata": {
    "collapsed": false
   }
  },
  {
   "cell_type": "code",
   "execution_count": 23,
   "outputs": [
    {
     "data": {
      "text/plain": "array([[ 0.  ,  0.  ,  0.5 , -0.5 ],\n       [-0.25, -0.25,  0.25,  0.25]])"
     },
     "execution_count": 23,
     "metadata": {},
     "output_type": "execute_result"
    }
   ],
   "source": [
    "grad_shape(0,1)"
   ],
   "metadata": {
    "collapsed": false
   }
  },
  {
   "cell_type": "code",
   "execution_count": null,
   "outputs": [],
   "source": [],
   "metadata": {
    "collapsed": false
   }
  }
 ],
 "metadata": {
  "kernelspec": {
   "display_name": "Python 3",
   "language": "python",
   "name": "python3"
  },
  "language_info": {
   "codemirror_mode": {
    "name": "ipython",
    "version": 2
   },
   "file_extension": ".py",
   "mimetype": "text/x-python",
   "name": "python",
   "nbconvert_exporter": "python",
   "pygments_lexer": "ipython2",
   "version": "2.7.6"
  }
 },
 "nbformat": 4,
 "nbformat_minor": 0
}
