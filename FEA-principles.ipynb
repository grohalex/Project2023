{
 "cells": [
  {
   "cell_type": "code",
   "execution_count": 3,
   "metadata": {
    "collapsed": true
   },
   "outputs": [],
   "source": [
    "# in this notebook I will develop a vanilla version of FEA using only basic python functions\n",
    "# Based on PolymerFEM: https://youtu.be/1j_HdsVkglk\n",
    "# Description: linear finite element analysis for 2D plane strain for linear elastic materials\n",
    "# Units: mm\n",
    "\n",
    "import numpy as np\n",
    "from matplotlib import pyplot as plt"
   ]
  },
  {
   "cell_type": "code",
   "execution_count": 95,
   "outputs": [],
   "source": [
    "# defining helper ftions\n",
    "\n",
    "# converting 'natural' coordinates xi, eta into shape functions: (n1, n2, n3, n4)\n",
    "def shape(xi,eta):\n",
    "    N1 = (1 - xi) * (1 - eta)\n",
    "    N2 = (1 + xi) * (1 - eta)\n",
    "    N3 = (1 + xi) * (1 + eta)\n",
    "    N4 = (1 - xi) * (1 + eta)\n",
    "    Ns = np.array([N1, N2, N3, N4])\n",
    "    return 0.25 * Ns\n",
    "\n",
    "# 'natural' coordinates xi, eta into gradients of the shape ftions: [(dn1/dx, dn2/dx, ...),\n",
    "#                                                                    (dn1/de, dn2/de,...)]\n",
    "def grad_shape(xi, eta):\n",
    "    dN = np.array([[-1 * (1-eta), 1 * (1-eta), 1 * (1+eta), -1 * (1+eta)],\n",
    "                   [-1 * (1-xi), -1 * (1+xi), 1 * (1+xi), 1 * (1-xi)]])\n",
    "    return 0.25 * dN\n",
    "\n",
    "# plotting mesh - function call:    plot_mesh(nodes, conn, plot_connections=True)\n",
    "def plot_mesh(nodes, conn, plot_connections=True):\n",
    "    plt.figure(figsize=(12,12))\n",
    "    plt.grid(color = 'gray', linewidth=0.2)\n",
    "\n",
    "    if plot_connections:  # plotting connections\n",
    "        connections = set()\n",
    "        for el in conn:\n",
    "            if len(el) == 4:\n",
    "                c1, c2, c3, c4 = (el[0], el[1]), (el[1], el[2]), (el[2], el[3]), (el[3], el[0])\n",
    "                connections.add(c1); connections.add(c2); connections.add(c3); connections.add(c4)\n",
    "            elif len(el) == 3:\n",
    "                c1, c2, c3 = (el[0], el[1]), (el[1], el[2]), (el[2], el[0])\n",
    "                connections.add(c1); connections.add(c2); connections.add(c3)\n",
    "        for (el1, el2) in connections:\n",
    "            (x1, y1) = nodes[el1]\n",
    "            (x2, y2) = nodes[el2]\n",
    "            plt.plot([x1, x2], [y1, y2], linewidth=0.9, color='orange', marker='', zorder=1)\n",
    "\n",
    "    plt.scatter(nodes[:,0], nodes[:,1], marker='o', color='b', s=5, zorder=2)  # plot nodes\n",
    "    plt.axis('equal')\n",
    "    plt.show()"
   ],
   "metadata": {
    "collapsed": false
   }
  },
  {
   "cell_type": "code",
   "execution_count": 32,
   "outputs": [
    {
     "data": {
      "text/plain": "499"
     },
     "execution_count": 32,
     "metadata": {},
     "output_type": "execute_result"
    }
   ],
   "source": [
    "# defining a mesh -> list of coordinates for each node\n",
    "#                 -> list of connections between nodes ('connectivity'/adjacency)\n",
    "\n",
    "# for a rectancgular block of (num_el_x, num_el_y) elements and dimensions (l_x, l_y)\n",
    "num_el_x, num_el_y = 9, 49   # num of elements\n",
    "l_x, l_y = 10, 50            # dimensions in x,y\n",
    "num_nx = num_el_x + 1        # num of nodes in x\n",
    "num_ny = num_el_y + 1        # num of nodes in y\n",
    "\n",
    "num_nodes = num_nx * num_ny\n",
    "num_elements = num_el_x * num_el_y\n",
    "hx = l_x / num_el_x\n",
    "hy = l_y / num_el_y\n",
    "\n",
    "nodes = []  # list of coordinates of all nodes\n",
    "for y in np.linspace(0., l_y, num_ny):\n",
    "    for x in np.linspace(0,l_x, num_nx):\n",
    "        nodes.append([x,y])\n",
    "nodes = np.array(nodes)\n",
    "\n",
    "conn = []  # list of connections for each element\n",
    "for j in range(num_el_y):\n",
    "    for i in range(num_el_x):\n",
    "        n0 = i + j * num_nx\n",
    "        conn.append([n0, n0 + 1, n0 + 1 + num_nx, n0 + num_nx])\n"
   ],
   "metadata": {
    "collapsed": false
   }
  },
  {
   "cell_type": "code",
   "execution_count": 148,
   "outputs": [],
   "source": [
    "# material specifications\n",
    "E = 100.1  # Youngs modulus\n",
    "v = 0.479  # Poisson ratio\n",
    "c = E / (1 + v) / (1 - 2 * v)      # constant for SM\n",
    "SM = c * np.array([[1 - v, v, 0],  # Stiffness matrix from Hooks Law for plane strain\n",
    "                   [v, 1 - v, 0],\n",
    "                   [0, 0, 0.5 - v]])"
   ],
   "metadata": {
    "collapsed": false
   }
  },
  {
   "cell_type": "code",
   "execution_count": 141,
   "outputs": [],
   "source": [
    "# obtaining the global and element stiffness matrix\n",
    "K = np.zeros((2 * num_nodes, 2 * num_nodes))   # the global stiffness matrix\n",
    "quad = [[x / np.sqrt(3), y / np.sqrt(3)] for y in [-1,1] for x in [-1,1]] # weights for gaussian quadrature\n",
    "B = np.zeros((3,8))\n",
    "for el in conn:\n",
    "    el_coords = nodes[el,:]  # coordinates of each node\n",
    "    Ke = np.zeros((8,8))    # init element stiffness matrix\n",
    "    for q in quad:\n",
    "        dN = grad_shape(q[0], q[1])\n",
    "        J  = np.dot(dN, el_coords).T\n",
    "        dN = np.dot(np.linalg.inv(J), dN)\n",
    "        B[0, 0::2] = dN[0, :]\n",
    "        B[1, 1::2] = dN[1, :]\n",
    "        B[2, 0::2] = dN[1, :]\n",
    "        B[2, 1::2] = dN[0, :]\n",
    "        Ke += np.dot(np.dot(B.T,SM),B) * np.linalg.det(J)  # getting element stiffness\n",
    "\n",
    "    # computing the global stiffness matrix\n",
    "    for i,I in enumerate(el):\n",
    "        for j,J in enumerate(el):\n",
    "            K[2*I, 2*J]     += Ke[2*i, 2*j]\n",
    "            K[2*I+1, 2*J]   += Ke[2*i+1, 2*j]\n",
    "            K[2*I+1, 2*J+1] += Ke[2*i+1, 2*j+1]\n",
    "            K[2*I, 2*J+1]   += Ke[2*i, 2*j+1]"
   ],
   "metadata": {
    "collapsed": false
   }
  },
  {
   "cell_type": "code",
   "execution_count": 144,
   "outputs": [
    {
     "data": {
      "text/plain": "array([[1.00000000e+00, 0.00000000e+00, 0.00000000e+00, ...,\n        0.00000000e+00, 0.00000000e+00, 0.00000000e+00],\n       [0.00000000e+00, 1.00000000e+00, 0.00000000e+00, ...,\n        0.00000000e+00, 0.00000000e+00, 0.00000000e+00],\n       [0.00000000e+00, 0.00000000e+00, 1.00000000e+00, ...,\n        0.00000000e+00, 0.00000000e+00, 0.00000000e+00],\n       ...,\n       [0.00000000e+00, 0.00000000e+00, 0.00000000e+00, ...,\n        6.29614052e+03, 1.84345037e+03, 1.41878510e+03],\n       [0.00000000e+00, 0.00000000e+00, 0.00000000e+00, ...,\n        1.84345037e+03, 2.69050403e+03, 2.01250040e+03],\n       [0.00000000e+00, 0.00000000e+00, 0.00000000e+00, ...,\n        1.41878510e+03, 2.01250040e+03, 3.14807026e+03]])"
     },
     "execution_count": 144,
     "metadata": {},
     "output_type": "execute_result"
    }
   ],
   "source": [
    "K"
   ],
   "metadata": {
    "collapsed": false
   }
  },
  {
   "cell_type": "code",
   "execution_count": 157,
   "outputs": [],
   "source": [
    "# Boundary conditions and forces\n",
    "F = np.zeros((2 * num_nodes))\n",
    "for i in range(num_nodes):\n",
    "    if nodes[i,1] == 0.0:      # for the bottom layer\n",
    "        K[2*i,:]     = 0.0\n",
    "        K[2*i+1,:]   = 0.0\n",
    "        K[2*i,2*i]   = 1.0\n",
    "        K[2*i+1,2*i+1] = 1.0\n",
    "    if nodes[i,1] == l_y:      # for the top layer\n",
    "        x = nodes[i,0]\n",
    "        F[2*i+1] = 20.0\n",
    "        if x == 0 or x == l_x: # for the sides\n",
    "            F[2*i+1] *= 0.5"
   ],
   "metadata": {
    "collapsed": false
   }
  },
  {
   "cell_type": "code",
   "execution_count": 152,
   "outputs": [
    {
     "data": {
      "text/plain": "array([ 0.,  0.,  0.,  0.,  0.,  0.,  0.,  0.,  0.,  0.,  0.,  0.,  0.,\n        0.,  0.,  0.,  0.,  0.,  0.,  0.,  0.,  0.,  0.,  0.,  0.,  0.,\n        0.,  0.,  0.,  0.,  0.,  0.,  0.,  0.,  0.,  0.,  0.,  0.,  0.,\n        0.,  0.,  0.,  0.,  0.,  0.,  0.,  0.,  0.,  0.,  0.,  0.,  0.,\n        0.,  0.,  0.,  0.,  0.,  0.,  0.,  0.,  0.,  0.,  0.,  0.,  0.,\n        0.,  0.,  0.,  0.,  0.,  0.,  0.,  0.,  0.,  0.,  0.,  0.,  0.,\n        0.,  0.,  0.,  0.,  0.,  0.,  0.,  0.,  0.,  0.,  0.,  0.,  0.,\n        0.,  0.,  0.,  0.,  0.,  0.,  0.,  0.,  0.,  0.,  0.,  0.,  0.,\n        0.,  0.,  0.,  0.,  0.,  0.,  0.,  0.,  0.,  0.,  0.,  0.,  0.,\n        0.,  0.,  0.,  0.,  0.,  0.,  0.,  0.,  0.,  0.,  0.,  0.,  0.,\n        0.,  0.,  0.,  0.,  0.,  0.,  0.,  0.,  0.,  0.,  0.,  0.,  0.,\n        0.,  0.,  0.,  0.,  0.,  0.,  0.,  0.,  0.,  0.,  0.,  0.,  0.,\n        0.,  0.,  0.,  0.,  0.,  0.,  0.,  0.,  0.,  0.,  0.,  0.,  0.,\n        0.,  0.,  0.,  0.,  0.,  0.,  0.,  0.,  0.,  0.,  0.,  0.,  0.,\n        0.,  0.,  0.,  0.,  0.,  0.,  0.,  0.,  0.,  0.,  0.,  0.,  0.,\n        0.,  0.,  0.,  0.,  0.,  0.,  0.,  0.,  0.,  0.,  0.,  0.,  0.,\n        0.,  0.,  0.,  0.,  0.,  0.,  0.,  0.,  0.,  0.,  0.,  0.,  0.,\n        0.,  0.,  0.,  0.,  0.,  0.,  0.,  0.,  0.,  0.,  0.,  0.,  0.,\n        0.,  0.,  0.,  0.,  0.,  0.,  0.,  0.,  0.,  0.,  0.,  0.,  0.,\n        0.,  0.,  0.,  0.,  0.,  0.,  0.,  0.,  0.,  0.,  0.,  0.,  0.,\n        0.,  0.,  0.,  0.,  0.,  0.,  0.,  0.,  0.,  0.,  0.,  0.,  0.,\n        0.,  0.,  0.,  0.,  0.,  0.,  0.,  0.,  0.,  0.,  0.,  0.,  0.,\n        0.,  0.,  0.,  0.,  0.,  0.,  0.,  0.,  0.,  0.,  0.,  0.,  0.,\n        0.,  0.,  0.,  0.,  0.,  0.,  0.,  0.,  0.,  0.,  0.,  0.,  0.,\n        0.,  0.,  0.,  0.,  0.,  0.,  0.,  0.,  0.,  0.,  0.,  0.,  0.,\n        0.,  0.,  0.,  0.,  0.,  0.,  0.,  0.,  0.,  0.,  0.,  0.,  0.,\n        0.,  0.,  0.,  0.,  0.,  0.,  0.,  0.,  0.,  0.,  0.,  0.,  0.,\n        0.,  0.,  0.,  0.,  0.,  0.,  0.,  0.,  0.,  0.,  0.,  0.,  0.,\n        0.,  0.,  0.,  0.,  0.,  0.,  0.,  0.,  0.,  0.,  0.,  0.,  0.,\n        0.,  0.,  0.,  0.,  0.,  0.,  0.,  0.,  0.,  0.,  0.,  0.,  0.,\n        0.,  0.,  0.,  0.,  0.,  0.,  0.,  0.,  0.,  0.,  0.,  0.,  0.,\n        0.,  0.,  0.,  0.,  0.,  0.,  0.,  0.,  0.,  0.,  0.,  0.,  0.,\n        0.,  0.,  0.,  0.,  0.,  0.,  0.,  0.,  0.,  0.,  0.,  0.,  0.,\n        0.,  0.,  0.,  0.,  0.,  0.,  0.,  0.,  0.,  0.,  0.,  0.,  0.,\n        0.,  0.,  0.,  0.,  0.,  0.,  0.,  0.,  0.,  0.,  0.,  0.,  0.,\n        0.,  0.,  0.,  0.,  0.,  0.,  0.,  0.,  0.,  0.,  0.,  0.,  0.,\n        0.,  0.,  0.,  0.,  0.,  0.,  0.,  0.,  0.,  0.,  0.,  0.,  0.,\n        0.,  0.,  0.,  0.,  0.,  0.,  0.,  0.,  0.,  0.,  0.,  0.,  0.,\n        0.,  0.,  0.,  0.,  0.,  0.,  0.,  0.,  0.,  0.,  0.,  0.,  0.,\n        0.,  0.,  0.,  0.,  0.,  0.,  0.,  0.,  0.,  0.,  0.,  0.,  0.,\n        0.,  0.,  0.,  0.,  0.,  0.,  0.,  0.,  0.,  0.,  0.,  0.,  0.,\n        0.,  0.,  0.,  0.,  0.,  0.,  0.,  0.,  0.,  0.,  0.,  0.,  0.,\n        0.,  0.,  0.,  0.,  0.,  0.,  0.,  0.,  0.,  0.,  0.,  0.,  0.,\n        0.,  0.,  0.,  0.,  0.,  0.,  0.,  0.,  0.,  0.,  0.,  0.,  0.,\n        0.,  0.,  0.,  0.,  0.,  0.,  0.,  0.,  0.,  0.,  0.,  0.,  0.,\n        0.,  0.,  0.,  0.,  0.,  0.,  0.,  0.,  0.,  0.,  0.,  0.,  0.,\n        0.,  0.,  0.,  0.,  0.,  0.,  0.,  0.,  0.,  0.,  0.,  0.,  0.,\n        0.,  0.,  0.,  0.,  0.,  0.,  0.,  0.,  0.,  0.,  0.,  0.,  0.,\n        0.,  0.,  0.,  0.,  0.,  0.,  0.,  0.,  0.,  0.,  0.,  0.,  0.,\n        0.,  0.,  0.,  0.,  0.,  0.,  0.,  0.,  0.,  0.,  0.,  0.,  0.,\n        0.,  0.,  0.,  0.,  0.,  0.,  0.,  0.,  0.,  0.,  0.,  0.,  0.,\n        0.,  0.,  0.,  0.,  0.,  0.,  0.,  0.,  0.,  0.,  0.,  0.,  0.,\n        0.,  0.,  0.,  0.,  0.,  0.,  0.,  0.,  0.,  0.,  0.,  0.,  0.,\n        0.,  0.,  0.,  0.,  0.,  0.,  0.,  0.,  0.,  0.,  0.,  0.,  0.,\n        0.,  0.,  0.,  0.,  0.,  0.,  0.,  0.,  0.,  0.,  0.,  0.,  0.,\n        0.,  0.,  0.,  0.,  0.,  0.,  0.,  0.,  0.,  0.,  0.,  0.,  0.,\n        0.,  0.,  0.,  0.,  0.,  0.,  0.,  0.,  0.,  0.,  0.,  0.,  0.,\n        0.,  0.,  0.,  0.,  0.,  0.,  0.,  0.,  0.,  0.,  0.,  0.,  0.,\n        0.,  0.,  0.,  0.,  0.,  0.,  0.,  0.,  0.,  0.,  0.,  0.,  0.,\n        0.,  0.,  0.,  0.,  0.,  0.,  0.,  0.,  0.,  0.,  0.,  0.,  0.,\n        0.,  0.,  0.,  0.,  0.,  0.,  0.,  0.,  0.,  0.,  0.,  0.,  0.,\n        0.,  0.,  0.,  0.,  0.,  0.,  0.,  0.,  0.,  0.,  0.,  0.,  0.,\n        0.,  0.,  0.,  0.,  0.,  0.,  0.,  0.,  0.,  0.,  0.,  0.,  0.,\n        0.,  0.,  0.,  0.,  0.,  0.,  0.,  0.,  0.,  0.,  0.,  0.,  0.,\n        0.,  0.,  0.,  0.,  0.,  0.,  0.,  0.,  0.,  0.,  0.,  0.,  0.,\n        0.,  0.,  0.,  0.,  0.,  0.,  0.,  0.,  0.,  0.,  0.,  0.,  0.,\n        0.,  0.,  0.,  0.,  0.,  0.,  0.,  0.,  0.,  0.,  0.,  0.,  0.,\n        0.,  0.,  0.,  0.,  0.,  0.,  0.,  0.,  0.,  0.,  0.,  0.,  0.,\n        0.,  0.,  0.,  0.,  0.,  0.,  0.,  0.,  0.,  0.,  0.,  0.,  0.,\n        0.,  0.,  0.,  0.,  0.,  0.,  0.,  0.,  0.,  0.,  0.,  0.,  0.,\n        0.,  0.,  0.,  0.,  0.,  0.,  0.,  0.,  0.,  0.,  0.,  0.,  0.,\n        0.,  0.,  0.,  0.,  0.,  0.,  0.,  0.,  0.,  0.,  0.,  0.,  0.,\n        0.,  0.,  0.,  0.,  0.,  0.,  0.,  0.,  0.,  0.,  0.,  0.,  0.,\n        0.,  0.,  0.,  0.,  0.,  0.,  0.,  0.,  0.,  0.,  0.,  0.,  0.,\n        0.,  0.,  0.,  0.,  0.,  0.,  0.,  0.,  0.,  0.,  0.,  0.,  0.,\n        0.,  0.,  0.,  0.,  0.,  0., 10.,  0., 20.,  0., 20.,  0., 20.,\n        0., 20.,  0., 20.,  0., 20.,  0., 20.,  0., 20.,  0., 10.])"
     },
     "execution_count": 152,
     "metadata": {},
     "output_type": "execute_result"
    }
   ],
   "source": [
    "F"
   ],
   "metadata": {
    "collapsed": false
   }
  },
  {
   "cell_type": "code",
   "execution_count": 155,
   "outputs": [
    {
     "name": "stdout",
     "output_type": "stream",
     "text": [
      "0.6755672317966452\n"
     ]
    },
    {
     "data": {
      "text/plain": "<Figure size 720x720 with 2 Axes>",
      "image/png": "[encoded data removed]"
     },
     "metadata": {
      "needs_background": "light"
     },
     "output_type": "display_data"
    }
   ],
   "source": [
    "# solving K * Un= R to find displacements of each node\n",
    "u = np.linalg.solve(K, F)\n",
    "print(np.max(u))\n",
    "\n",
    "# plotting the solved displacements\n",
    "ux = np.reshape(u[0::2], (num_ny, num_nx))  # displacements in X\n",
    "uy = np.reshape(u[1::2], (num_ny, num_nx))  # displacements in Y\n",
    "x_new, y_new = [], []\n",
    "res  = []\n",
    "for i in range(num_nx):\n",
    "    for j in range(num_ny):\n",
    "        x_new.append(i * hx + ux[j,i])\n",
    "        y_new.append(j * hy + uy[j,i])\n",
    "        res.append(uy[j,i])\n",
    "plt.figure(figsize=(10,10))\n",
    "t = plt.tricontourf(x_new, y_new, res, levels=10, cmap=plt.cm.jet)\n",
    "plt.scatter(x_new, y_new, marker='o', c='b', s=2)\n",
    "plt.grid()\n",
    "plt.colorbar(t)\n",
    "plt.axis('equal')\n",
    "plt.show()"
   ],
   "metadata": {
    "collapsed": false
   }
  }
 ],
 "metadata": {
  "kernelspec": {
   "display_name": "Python 3",
   "language": "python",
   "name": "python3"
  },
  "language_info": {
   "codemirror_mode": {
    "name": "ipython",
    "version": 2
   },
   "file_extension": ".py",
   "mimetype": "text/x-python",
   "name": "python",
   "nbconvert_exporter": "python",
   "pygments_lexer": "ipython2",
   "version": "2.7.6"
  }
 },
 "nbformat": 4,
 "nbformat_minor": 0
}
